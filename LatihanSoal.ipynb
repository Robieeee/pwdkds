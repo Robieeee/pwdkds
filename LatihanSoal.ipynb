{
 "cells": [
  {
   "cell_type": "markdown",
   "metadata": {},
   "source": [
    "1. Variables dan Operasi Matematika\n",
    "Soal:\n",
    "- Buat program untuk menghitung luas lingkaran, di mana pengguna memasukkan jari-jari lingkaran, dan program akan menampilkan hasilnya.\n",
    "- Hitung jumlah total, rata-rata, maksimum, dan minimum dari tiga angka yang dimasukkan pengguna.\n"
   ]
  },
  {
   "cell_type": "code",
   "execution_count": 6,
   "metadata": {},
   "outputs": [
    {
     "name": "stdout",
     "output_type": "stream",
     "text": [
      "3.141592653589793\n",
      "361\n",
      "1134.1149479459152\n"
     ]
    }
   ],
   "source": [
    "import math\n",
    "jari_jari = int(input(\"Masukan Jari jari lingkaran: \"))\n",
    "jari_jari *= jari_jari\n",
    "luas_lingkaran = math.pi * jari_jari\n",
    "# print(math.pi)\n",
    "# print (jari_jari)\n",
    "print(luas_lingkaran)\n"
   ]
  },
  {
   "cell_type": "code",
   "execution_count": 12,
   "metadata": {},
   "outputs": [
    {
     "name": "stdout",
     "output_type": "stream",
     "text": [
      "Total angka yang dimasukan sebesar: 22\n",
      "Rata-Rata dari Angka yang dimasukan sebesar: 7.333333333333333\n",
      "Angka terbesar adalah : 10\n",
      "Angka Terkecil ialah: 5\n"
     ]
    }
   ],
   "source": [
    "import math\n",
    "angka_terbesar = 0;\n",
    "def maximum_angka (a1, a2, a3):\n",
    "    if(a1 >= a2) and (a2 >= a3):\n",
    "        angka_terbesar = a1\n",
    "    elif(a2 >= a1) and (a2 >= a3):\n",
    "        angka_terbesar = a2\n",
    "    else:\n",
    "        angka_terbesar = a3\n",
    "    return print(f\"Angka terbesar adalah : {angka_terbesar}\")\n",
    "\n",
    "def minimum_angka(a4 ,a5, a6):\n",
    "    angka_terkecil = 0\n",
    "    if(a4 <= a5) and (a4 <= a6):\n",
    "        angka_terkecil = a4\n",
    "    elif(a5 <= a4) and (a5 <= a6):\n",
    "        angka_terkecil = a5\n",
    "    else:\n",
    "        angka_terkecil = a6\n",
    "    return print(f\"Angka Terkecil ialah: {angka_terkecil}\")\n",
    "        \n",
    "\n",
    "angka_1 = int(input(\"Masukan Angka Pertama: \"))\n",
    "angka_2 = int(input(\"Masukan Angka Kedua: \"))\n",
    "angka_3 = int(input(\"Masukan Angka Ketiga: \"))\n",
    "\n",
    "total_angka = angka_1 + angka_2 + angka_3\n",
    "average = total_angka / 3\n",
    "print(f\"Total angka yang dimasukan sebesar: {total_angka}\")\n",
    "print(f\"Rata-Rata dari Angka yang dimasukan sebesar: {average}\")\n",
    "maximum_angka(angka_1, angka_2, angka_3)\n",
    "minimum_angka(angka_1, angka_2, angka_3)\n",
    "\n"
   ]
  },
  {
   "cell_type": "markdown",
   "metadata": {},
   "source": [
    "2. Latihan Soal Casting (Perubahan Tipe Data)\n",
    "Soal:\n",
    "- Minta pengguna memasukkan angka dalam bentuk string, lalu ubah angka tersebut menjadi integer dan tampilkan hasil penjumlahan angka tersebut dengan angka tetap (misalnya, 10).\n",
    "- Buat program untuk mengonversi input pengguna (dalam bentuk desimal) menjadi bilangan bulat (integer) dan bilangan pecahan (float).\n"
   ]
  },
  {
   "cell_type": "code",
   "execution_count": 15,
   "metadata": {},
   "outputs": [
    {
     "name": "stdout",
     "output_type": "stream",
     "text": [
      "<class 'int'>\n"
     ]
    }
   ],
   "source": [
    "data_angka = input(\"Masukan Angka: \")\n",
    "data_konversi = int(data_angka)\n",
    "data_konversi *= data_konversi\n",
    "print(type(data_konversi))"
   ]
  },
  {
   "cell_type": "code",
   "execution_count": 14,
   "metadata": {},
   "outputs": [
    {
     "name": "stdout",
     "output_type": "stream",
     "text": [
      "<class 'decimal.Decimal'>\n"
     ]
    }
   ],
   "source": [
    "from decimal import Decimal\n",
    "import decimal\n",
    "decimal_angka = int(input(\"Masukan Angka anda: \"))\n",
    "decimal_angka = float(decimal_angka)\n",
    "decimal_angka = decimal.Decimal(decimal_angka)\n",
    "\n",
    "print(type(decimal_angka))"
   ]
  },
  {
   "cell_type": "markdown",
   "metadata": {},
   "source": [
    "3. Latihan Soal Conditional Statement\n",
    "Soal:\n",
    "- Buat program untuk menentukan kategori usia berdasarkan input umur pengguna:\n",
    "Usia < 13: \"Anak-anak\"\n",
    "Usia 13-19: \"Remaja\"\n",
    "Usia 20-59: \"Dewasa\"\n",
    "Usia >= 60: \"Lansia\"\n",
    "- Buat program yang meminta pengguna memasukkan angka, dan cek apakah angka tersebut:\n",
    "Positif atau negatif.\n",
    "Genap atau ganjil.\n"
   ]
  },
  {
   "cell_type": "code",
   "execution_count": 9,
   "metadata": {},
   "outputs": [
    {
     "name": "stdout",
     "output_type": "stream",
     "text": [
      "Umur kamu tergolong Anak-Anak ya, dengan umur 5\n"
     ]
    }
   ],
   "source": [
    "umur_pengguna = int(input(\"Masukan umur anda: \"))\n",
    "\n",
    "if(umur_pengguna >= 60):\n",
    "    print(f\"Umur anda tergolong Lansia dengan umur {umur_pengguna}\")\n",
    "elif(umur_pengguna >= 20 and umur_pengguna <=59):\n",
    "    print(f\"Umur anda tergolong Dewasa dengan umur{umur_pengguna}\")\n",
    "elif(umur_pengguna >= 13 and umur_pengguna <= 19):\n",
    "    print(f\"Umur anda tergolong Remaja dengan umur {umur_pengguna}\")\n",
    "else:\n",
    "    print(f\"Umur kamu tergolong Anak-Anak ya, dengan umur {umur_pengguna}\")"
   ]
  },
  {
   "cell_type": "code",
   "execution_count": 14,
   "metadata": {},
   "outputs": [
    {
     "name": "stdout",
     "output_type": "stream",
     "text": [
      "Angka yang anda masukan adalah angka genap!\n",
      "Angka yang anda masukan adalah angka negatif!\n"
     ]
    }
   ],
   "source": [
    "angka_positif_negatif = int(input(\"Masukan angka yang anda inginkan: \"))\n",
    "if(angka_positif_negatif % 2 == 0):\n",
    "    print(f\"Angka yang anda masukan adalah angka genap!\")\n",
    "else:\n",
    "    print(f\"Angka yang anda masukan adalah angka ganjil!\")\n",
    "    \n",
    "if(angka_positif_negatif > 0):\n",
    "    print(f\"Angka yang anda masukan adalah angka positif!\")\n",
    "else:\n",
    "    print(f\"Angka yang anda masukan adalah angka negatif!\")"
   ]
  },
  {
   "cell_type": "markdown",
   "metadata": {},
   "source": [
    "4. Latihan Soal While dan For Loop\n",
    "Soal:\n",
    "- Buat program menggunakan while yang meminta pengguna memasukkan angka terus-menerus sampai pengguna memasukkan angka negatif.\n",
    "Tampilkan jumlah total dari semua angka yang dimasukkan.\n",
    "- Buat sebuah list angka (contohnya: [5, 10, 15, 20, 25]). Gunakan for loop untuk menghitung total dan rata-rata angka dalam list tersebut.\n"
   ]
  },
  {
   "cell_type": "code",
   "execution_count": 9,
   "metadata": {},
   "outputs": [
    {
     "name": "stdout",
     "output_type": "stream",
     "text": [
      "Total angka yang dimasukan: 100\n"
     ]
    }
   ],
   "source": [
    "angka_while_loop = 0\n",
    "while True:\n",
    "    angka_input= int(input(\"Masukan kembali\"))\n",
    "    angka_while_loop += angka_input\n",
    "    if(angka_input < 0):\n",
    "        break\n",
    "print(f\"Total angka yang dimasukan: {angka_while_loop}\")\n"
   ]
  },
  {
   "cell_type": "code",
   "execution_count": 19,
   "metadata": {},
   "outputs": [
    {
     "name": "stdout",
     "output_type": "stream",
     "text": [
      "Rata-Rata angka yang dimasukan : 15.0\n"
     ]
    }
   ],
   "source": [
    "list_angka = [5,10,15,20,25]\n",
    "total_angka = 0\n",
    "pembagi = 0\n",
    "\n",
    "for number in list_angka:\n",
    "    total_angka += number\n",
    "    pembagi += 1\n",
    "rata_rata = total_angka / pembagi\n",
    "print(f\"Rata-Rata angka yang dimasukan : {rata_rata}\")"
   ]
  },
  {
   "cell_type": "markdown",
   "metadata": {},
   "source": [
    "5. Latihan Soal Collection Data Types\n",
    "Soal:\n",
    "- List:\n",
    "Minta pengguna memasukkan lima nama teman, simpan dalam list, lalu tampilkan nama-nama tersebut satu per satu menggunakan loop.\n",
    "- Tuple:\n",
    "Simpan data tentang nama dan tanggal lahir Anda dalam tuple, lalu tampilkan format berikut: \"Nama saya [nama], lahir pada [tanggal lahir].\"\n",
    "- Dictionary:\n",
    "Buat dictionary berisi nama sebagai key dan umur sebagai value untuk lima orang. Tampilkan semua data dalam format: \"Nama: [nama], Umur: [umur].\"\n",
    "- Set:\n",
    "Buat dua set angka (masing-masing 5 angka), lalu:\n",
    "Hitung union dan intersection-nya.\n",
    "Cek apakah salah satu set merupakan subset dari set lainnya.\n"
   ]
  },
  {
   "cell_type": "code",
   "execution_count": 16,
   "metadata": {},
   "outputs": [
    {
     "name": "stdout",
     "output_type": "stream",
     "text": [
      "Nama nama yang telah masuk adalah : ['hai']\n",
      "Nama nama yang telah masuk adalah : ['hai', 'hai']\n",
      "Nama nama yang telah masuk adalah : ['hai', 'hai', 'hai']\n",
      "Nama nama yang telah masuk adalah : ['hai', 'hai', 'hai', 'hai']\n",
      "Nama nama yang telah masuk adalah : ['hai', 'hai', 'hai', 'hai', 'hai']\n",
      "Nama-nama yang telah anda masukan : ['hai', 'hai', 'hai', 'hai', 'hai']\n"
     ]
    }
   ],
   "source": [
    "list = []\n",
    "i = 0\n",
    "while i != 5:\n",
    "    input_nama = str(input(f\"Masukan {i+1} nama teman yang anda ketahui : \"))\n",
    "    list.append(input_nama)\n",
    "    i += 1\n",
    "    print(f\"Nama nama yang telah masuk adalah : {list}\")\n",
    "\n",
    "print(f\"Nama-nama yang telah anda masukan : {list}\")\n"
   ]
  },
  {
   "cell_type": "code",
   "execution_count": 15,
   "metadata": {},
   "outputs": [
    {
     "name": "stdout",
     "output_type": "stream",
     "text": [
      "Nama saya Joko lahir pada tanggal 17 januari 1990\n",
      "Nama saya Abdul lahir pada tanggal 19 Januari 1995\n",
      "Nama saya Sahid lahir pada tanggal 20 Januari 2001\n",
      "Nama saya Solihin lahir pada tanggal 21 Febuari 2005\n"
     ]
    }
   ],
   "source": [
    "\n",
    "tuple_1 = (\"Joko\", \"Abdul\", \"Sahid\", \"Solihin\")\n",
    "tuple_2 = (\"17 januari 1990\", \"19 Januari 1995\", \"20 Januari 2001\", \"21 Febuari 2005\")\n",
    "\n",
    "for x in range(len(tuple_1)):\n",
    "    print(f\"Nama saya {tuple_1[x]} lahir pada tanggal {tuple_2[x]}\")\n"
   ]
  },
  {
   "cell_type": "code",
   "execution_count": 17,
   "metadata": {},
   "outputs": [
    {
     "name": "stdout",
     "output_type": "stream",
     "text": [
      "Nama: Joko, Umur 20\n",
      "Nama: Abdul, Umur 30\n",
      "Nama: Sahid, Umur 40\n",
      "Nama: Solihin, Umur 50\n",
      "Nama: Salihid, Umur 60\n"
     ]
    }
   ],
   "source": [
    "my_dictionary = {\n",
    "        \"Joko\" : 20,\n",
    "        \"Abdul\": 30,\n",
    "        \"Sahid\": 40,\n",
    "        \"Solihin\": 50,\n",
    "        \"Salihid\":60\n",
    "}\n",
    "\n",
    "for nama, umur in my_dictionary.items():\n",
    "    print(f\"Nama: {nama}, Umur {umur}\")"
   ]
  },
  {
   "cell_type": "code",
   "execution_count": 13,
   "metadata": {},
   "outputs": [
    {
     "name": "stdout",
     "output_type": "stream",
     "text": [
      "Hasil union dari kedua sets ini adalah: 40\n",
      "Hasil dari intersection kedua set ini adalah: 10\n",
      "Set 2 bukan subset dari set 1\n"
     ]
    }
   ],
   "source": [
    "my_set1 = {20, 1, 2, 3, 4}\n",
    "my_set2 = {10, 1, 2, 3, 4}\n",
    "union_set = my_set1.union(my_set2)\n",
    "total_set = sum(union_set)\n",
    "intersection_set = my_set1.intersection(my_set2)\n",
    "total_intersection = sum(intersection_set)\n",
    "\n",
    "print(f\"Hasil union dari kedua sets ini adalah: {total_set}\")\n",
    "print(f\"Hasil dari intersection kedua set ini adalah: {total_intersection}\")\n",
    "\n",
    "if(my_set2.issubset(my_set1)):\n",
    "    print(\"Set nomor 2 merupakan subset dari set 1\")\n",
    "else:\n",
    "    print(\"Set 2 bukan subset dari set 1\")\n"
   ]
  },
  {
   "cell_type": "markdown",
   "metadata": {},
   "source": [
    "6. All the Concept\n",
    "Kamu sedang membantu seorang kasir di sebuah toko kelontong. Kasir tersebut ingin membuat program sederhana untuk mencatat daftar belanjaan pelanggan, menghitung total harga, dan memberikan diskon otomatis jika pelanggan membeli dalam jumlah tertentu. Kasir meminta bantuanmu untuk membuat program ini menggunakan Python.\n"
   ]
  },
  {
   "cell_type": "code",
   "execution_count": 3,
   "metadata": {},
   "outputs": [
    {
     "name": "stdout",
     "output_type": "stream",
     "text": [
      "Selamat Datang di Toko Kelontong!\n",
      "Masukan Daftar barang yang kamu masukan ya untuk dihitung!\n",
      "\n",
      "\n",
      "Nama barang tidak dapat ditemukan hanya ada : \n",
      "\n",
      "Beras\n",
      "Indomie\n",
      "Minyak Goreng\n",
      "Oreo\n",
      "Chitato\n",
      "\n",
      "------------------------------------------------------------\n"
     ]
    },
    {
     "ename": "ValueError",
     "evalue": "Space not allowed in string format specifier",
     "output_type": "error",
     "traceback": [
      "\u001b[1;31m---------------------------------------------------------------------------\u001b[0m",
      "\u001b[1;31mValueError\u001b[0m                                Traceback (most recent call last)",
      "Cell \u001b[1;32mIn[3], line 41\u001b[0m\n\u001b[0;32m     38\u001b[0m     total_harga \u001b[38;5;241m=\u001b[39m subtotal_harga \u001b[38;5;241m-\u001b[39m discount\n\u001b[0;32m     40\u001b[0m \u001b[38;5;28mprint\u001b[39m(\u001b[38;5;124m\"\u001b[39m\u001b[38;5;130;01m\\n\u001b[39;00m\u001b[38;5;124m\"\u001b[39m \u001b[38;5;241m+\u001b[39m \u001b[38;5;124m\"\u001b[39m\u001b[38;5;124m-\u001b[39m\u001b[38;5;124m\"\u001b[39m \u001b[38;5;241m*\u001b[39m \u001b[38;5;241m60\u001b[39m)\n\u001b[1;32m---> 41\u001b[0m \u001b[38;5;28mprint\u001b[39m(\u001b[38;5;124mf\u001b[39m\u001b[38;5;124m\"\u001b[39m\u001b[38;5;132;01m{\u001b[39;00m\u001b[38;5;124m'\u001b[39m\u001b[38;5;124mBarang\u001b[39m\u001b[38;5;124m'\u001b[39m\u001b[38;5;250m \u001b[39m\u001b[38;5;132;01m:\u001b[39;00m\u001b[38;5;124m < 20\u001b[39m\u001b[38;5;132;01m}\u001b[39;00m\u001b[38;5;124m | \u001b[39m\u001b[38;5;132;01m{\u001b[39;00m\u001b[38;5;124m'\u001b[39m\u001b[38;5;124mBanyaknya Barang\u001b[39m\u001b[38;5;124m'\u001b[39m\u001b[38;5;132;01m:\u001b[39;00m\u001b[38;5;124m < 20\u001b[39m\u001b[38;5;132;01m}\u001b[39;00m\u001b[38;5;124m | \u001b[39m\u001b[38;5;132;01m{\u001b[39;00m\u001b[38;5;124m'\u001b[39m\u001b[38;5;124mSubtotal\u001b[39m\u001b[38;5;124m'\u001b[39m\u001b[38;5;132;01m:\u001b[39;00m\u001b[38;5;124m < 20\u001b[39m\u001b[38;5;132;01m}\u001b[39;00m\u001b[38;5;124m\"\u001b[39m)\n\u001b[0;32m     43\u001b[0m \u001b[38;5;28;01mfor\u001b[39;00m item \u001b[38;5;129;01min\u001b[39;00m list_barang:\n\u001b[0;32m     44\u001b[0m     nama \u001b[38;5;241m=\u001b[39m item[\u001b[38;5;124m\"\u001b[39m\u001b[38;5;124mnama\u001b[39m\u001b[38;5;124m\"\u001b[39m]\n",
      "\u001b[1;31mValueError\u001b[0m: Space not allowed in string format specifier"
     ]
    }
   ],
   "source": [
    "inventory = {\n",
    "    \"Beras\": {\"harga\": 73500, \"kuantitas\": 100},\n",
    "    \"Indomie\": {\"harga\": 3500, \"kuantitas\": 100},\n",
    "    \"Minyak Goreng\": {\"harga\": 33500, \"kuantitas\": 500},\n",
    "    \"Oreo\": {\"harga\": 11500, \"kuantitas\": 70},\n",
    "    \"Chitato\": {\"harga\": 15500, \"kuantitas\": 110},\n",
    "}\n",
    "print(\"Selamat Datang di Toko Kelontong!\\nMasukan Daftar barang yang kamu masukan ya untuk dihitung!\\n\\n\")\n",
    "avalable_storage = list(inventory.keys())\n",
    "list_barang = []\n",
    "\n",
    "while True:\n",
    "    nama_barang = str(input(\"Masukan nama barang yang kamu ambil yaa (atau ketik 'selesai' jika merasa sudah cukup yaa): \"))\n",
    "    if(nama_barang.lower() == \"selesai\"):\n",
    "        break\n",
    "    if(nama_barang in inventory):\n",
    "        try:\n",
    "            kuantitas_barang = int(input(f\"Masukan jumlah {nama_barang} yang kamu ambil yaa : \"))\n",
    "            if(kuantitas_barang <= inventory[nama_barang][\"kuantitas\"]):\n",
    "                list_barang.append({\"nama\": nama_barang, \"kuantitas\": kuantitas_barang})\n",
    "                continue\n",
    "            else:\n",
    "                print(f\"{nama_barang} tidak mencukup, Hanya tersisa {inventory[nama_barang][\"kuantitas\"]} tersisa.\")     \n",
    "        except ValueError:\n",
    "            print(\"\\nMasukan jumlah kuantitas barang yang valid!\\n\")\n",
    "    else:\n",
    "        print(f\"Nama barang tidak dapat ditemukan hanya ada : \\n\")\n",
    "        for item in avalable_storage:\n",
    "            print(item)\n",
    "\n",
    "subtotal_harga = sum(item[\"kuantitas\"] * inventory[item[\"nama\"]][\"harga\"] for item in list_barang)\n",
    "total_harga = 0\n",
    "discount = 0\n",
    "if(subtotal_harga >= 100000):\n",
    "    discount = subtotal_harga * 0.1\n",
    "    total_harga = subtotal_harga - discount\n",
    "elif(subtotal_harga >= 200000):\n",
    "    discount = subtotal_harga * 0.2\n",
    "    total_harga = subtotal_harga - discount\n",
    "\n",
    "print(\"\\n\" + \"-\" * 60)\n",
    "print(f\"{'Barang':<20} | {'Banyaknya Barang':<20} | {'Subtotal':<20}\")\n",
    "\n",
    "for item in list_barang:\n",
    "    nama = item[\"nama\"]\n",
    "    kuantitas = item[\"kuantitas\"]\n",
    "    harga = inventory[nama][\"harga\"]\n",
    "    subtotal_item_yang_diambil = kuantitas * harga\n",
    "    print(f\"{nama:<20} | {kuantitas:<20} | {subtotal_item_yang_diambil}\")\n",
    "\n",
    "print(\"-\" * 60)\n",
    "print(f\"{'Subtotal Harga sebelum diskon':<43} : Rp{subtotal_harga}\")\n",
    "if discount > 0:\n",
    "    print(f\"{'Subtotal Harga setelah diskon':<43} : Rp{total_harga}\")\n",
    "else:\n",
    "    print(f\"{'Total yang harus dibayarkan oleh kamu adalah sebesar':<43} : Rp{total_harga}\")\n",
    "\n",
    "while True:\n",
    "    try:\n",
    "        uang_pelanggan = int(input(\"Masukan uang yang ingin  dibayarkan : Rp\"))\n",
    "        if uang_pelanggan < total_harga:\n",
    "            print(f\"Uang yang kamu berikan tidak mencukupi, silahkan bayar sesuai dengan harga yang telah diberikan\")\n",
    "        else:\n",
    "            uang_kembalian_pelanggan = uang_pelanggan - total_harga\n",
    "            print(f\"Terima kasih! Berikut kembalian kamu ya, Rp{uang_kembalian_pelanggan}\\n\")\n",
    "            print(\"Selamat berbelanja kembali :)\")\n",
    "            break\n",
    "    except ValueError:\n",
    "        print(\"Mohon untuk masukan jumlah uang yang valid!\")\n",
    "\n",
    "\n",
    "\n",
    "\n",
    "\n",
    "\n",
    "        \n",
    "\n"
   ]
  },
  {
   "cell_type": "code",
   "execution_count": null,
   "metadata": {},
   "outputs": [],
   "source": []
  }
 ],
 "metadata": {
  "kernelspec": {
   "display_name": "Python 3",
   "language": "python",
   "name": "python3"
  },
  "language_info": {
   "codemirror_mode": {
    "name": "ipython",
    "version": 3
   },
   "file_extension": ".py",
   "mimetype": "text/x-python",
   "name": "python",
   "nbconvert_exporter": "python",
   "pygments_lexer": "ipython3",
   "version": "3.13.1"
  }
 },
 "nbformat": 4,
 "nbformat_minor": 2
}
