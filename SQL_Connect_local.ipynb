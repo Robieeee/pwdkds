{
 "cells": [
  {
   "cell_type": "code",
   "execution_count": 2,
   "metadata": {},
   "outputs": [
    {
     "name": "stdout",
     "output_type": "stream",
     "text": [
      "Collecting mysql\n",
      "  Using cached mysql-0.0.3-py3-none-any.whl.metadata (746 bytes)\n",
      "Collecting mysqlclient (from mysql)\n",
      "  Downloading mysqlclient-2.2.7-cp312-cp312-win_amd64.whl.metadata (4.8 kB)\n",
      "Using cached mysql-0.0.3-py3-none-any.whl (1.2 kB)\n",
      "Downloading mysqlclient-2.2.7-cp312-cp312-win_amd64.whl (208 kB)\n",
      "Installing collected packages: mysqlclient, mysql\n",
      "Successfully installed mysql-0.0.3 mysqlclient-2.2.7\n",
      "Note: you may need to restart the kernel to use updated packages.\n"
     ]
    },
    {
     "name": "stderr",
     "output_type": "stream",
     "text": [
      "WARNING: Ignoring invalid distribution ~ (c:\\Python312\\Lib\\site-packages)\n",
      "WARNING: Ignoring invalid distribution ~ip (c:\\Python312\\Lib\\site-packages)\n",
      "WARNING: Ignoring invalid distribution ~ (c:\\Python312\\Lib\\site-packages)\n",
      "WARNING: Ignoring invalid distribution ~ip (c:\\Python312\\Lib\\site-packages)\n",
      "WARNING: Ignoring invalid distribution ~ (c:\\Python312\\Lib\\site-packages)\n",
      "WARNING: Ignoring invalid distribution ~ip (c:\\Python312\\Lib\\site-packages)\n",
      "WARNING: Ignoring invalid distribution ~ (c:\\Python312\\Lib\\site-packages)\n",
      "WARNING: Ignoring invalid distribution ~ip (c:\\Python312\\Lib\\site-packages)\n"
     ]
    }
   ],
   "source": [
    "pip install mysql\n"
   ]
  },
  {
   "cell_type": "code",
   "execution_count": 2,
   "metadata": {},
   "outputs": [
    {
     "ename": "NotSupportedError",
     "evalue": "Authentication plugin 'caching_sha2_password' is not supported",
     "output_type": "error",
     "traceback": [
      "\u001b[1;31m---------------------------------------------------------------------------\u001b[0m",
      "\u001b[1;31mNotSupportedError\u001b[0m                         Traceback (most recent call last)",
      "Cell \u001b[1;32mIn[2], line 11\u001b[0m\n\u001b[0;32m      8\u001b[0m db_name \u001b[38;5;241m=\u001b[39m \u001b[38;5;124m'\u001b[39m\u001b[38;5;124msakila\u001b[39m\u001b[38;5;124m'\u001b[39m  \u001b[38;5;66;03m# replace Database name contoh sakila, world, employee\u001b[39;00m\n\u001b[0;32m     10\u001b[0m \u001b[38;5;66;03m# Create the connection\u001b[39;00m\n\u001b[1;32m---> 11\u001b[0m my_connector \u001b[38;5;241m=\u001b[39m \u001b[43mmysql\u001b[49m\u001b[38;5;241;43m.\u001b[39;49m\u001b[43mconnector\u001b[49m\u001b[38;5;241;43m.\u001b[39;49m\u001b[43mconnect\u001b[49m\u001b[43m(\u001b[49m\n\u001b[0;32m     12\u001b[0m \u001b[43m    \u001b[49m\u001b[43mhost\u001b[49m\u001b[38;5;241;43m=\u001b[39;49m\u001b[43mdb_host\u001b[49m\u001b[43m,\u001b[49m\n\u001b[0;32m     13\u001b[0m \u001b[43m    \u001b[49m\u001b[43muser\u001b[49m\u001b[38;5;241;43m=\u001b[39;49m\u001b[43mdb_user\u001b[49m\u001b[43m,\u001b[49m\n\u001b[0;32m     14\u001b[0m \u001b[43m    \u001b[49m\u001b[43mpasswd\u001b[49m\u001b[38;5;241;43m=\u001b[39;49m\u001b[43mdb_password\u001b[49m\u001b[43m,\u001b[49m\n\u001b[0;32m     15\u001b[0m \u001b[43m    \u001b[49m\u001b[43mdatabase\u001b[49m\u001b[38;5;241;43m=\u001b[39;49m\u001b[43mdb_name\u001b[49m\n\u001b[0;32m     16\u001b[0m \u001b[43m)\u001b[49m\n",
      "File \u001b[1;32mc:\\Python312\\Lib\\site-packages\\mysql\\connector\\__init__.py:179\u001b[0m, in \u001b[0;36mconnect\u001b[1;34m(*args, **kwargs)\u001b[0m\n\u001b[0;32m    177\u001b[0m     \u001b[38;5;28;01mreturn\u001b[39;00m CMySQLConnection(\u001b[38;5;241m*\u001b[39margs, \u001b[38;5;241m*\u001b[39m\u001b[38;5;241m*\u001b[39mkwargs)\n\u001b[0;32m    178\u001b[0m \u001b[38;5;28;01melse\u001b[39;00m:\n\u001b[1;32m--> 179\u001b[0m     \u001b[38;5;28;01mreturn\u001b[39;00m \u001b[43mMySQLConnection\u001b[49m\u001b[43m(\u001b[49m\u001b[38;5;241;43m*\u001b[39;49m\u001b[43margs\u001b[49m\u001b[43m,\u001b[49m\u001b[43m \u001b[49m\u001b[38;5;241;43m*\u001b[39;49m\u001b[38;5;241;43m*\u001b[39;49m\u001b[43mkwargs\u001b[49m\u001b[43m)\u001b[49m\n",
      "File \u001b[1;32mc:\\Python312\\Lib\\site-packages\\mysql\\connector\\connection.py:95\u001b[0m, in \u001b[0;36mMySQLConnection.__init__\u001b[1;34m(self, *args, **kwargs)\u001b[0m\n\u001b[0;32m     92\u001b[0m \u001b[38;5;28mself\u001b[39m\u001b[38;5;241m.\u001b[39m_pool_config_version \u001b[38;5;241m=\u001b[39m \u001b[38;5;28;01mNone\u001b[39;00m\n\u001b[0;32m     94\u001b[0m \u001b[38;5;28;01mif\u001b[39;00m \u001b[38;5;28mlen\u001b[39m(kwargs) \u001b[38;5;241m>\u001b[39m \u001b[38;5;241m0\u001b[39m:\n\u001b[1;32m---> 95\u001b[0m     \u001b[38;5;28;43mself\u001b[39;49m\u001b[38;5;241;43m.\u001b[39;49m\u001b[43mconnect\u001b[49m\u001b[43m(\u001b[49m\u001b[38;5;241;43m*\u001b[39;49m\u001b[38;5;241;43m*\u001b[39;49m\u001b[43mkwargs\u001b[49m\u001b[43m)\u001b[49m\n",
      "File \u001b[1;32mc:\\Python312\\Lib\\site-packages\\mysql\\connector\\abstracts.py:716\u001b[0m, in \u001b[0;36mMySQLConnectionAbstract.connect\u001b[1;34m(self, **kwargs)\u001b[0m\n\u001b[0;32m    713\u001b[0m     \u001b[38;5;28mself\u001b[39m\u001b[38;5;241m.\u001b[39mconfig(\u001b[38;5;241m*\u001b[39m\u001b[38;5;241m*\u001b[39mkwargs)\n\u001b[0;32m    715\u001b[0m \u001b[38;5;28mself\u001b[39m\u001b[38;5;241m.\u001b[39mdisconnect()\n\u001b[1;32m--> 716\u001b[0m \u001b[38;5;28;43mself\u001b[39;49m\u001b[38;5;241;43m.\u001b[39;49m\u001b[43m_open_connection\u001b[49m\u001b[43m(\u001b[49m\u001b[43m)\u001b[49m\n\u001b[0;32m    717\u001b[0m \u001b[38;5;28mself\u001b[39m\u001b[38;5;241m.\u001b[39m_post_connection()\n",
      "File \u001b[1;32mc:\\Python312\\Lib\\site-packages\\mysql\\connector\\connection.py:208\u001b[0m, in \u001b[0;36mMySQLConnection._open_connection\u001b[1;34m(self)\u001b[0m\n\u001b[0;32m    206\u001b[0m \u001b[38;5;28mself\u001b[39m\u001b[38;5;241m.\u001b[39m_socket\u001b[38;5;241m.\u001b[39mopen_connection()\n\u001b[0;32m    207\u001b[0m \u001b[38;5;28mself\u001b[39m\u001b[38;5;241m.\u001b[39m_do_handshake()\n\u001b[1;32m--> 208\u001b[0m \u001b[38;5;28;43mself\u001b[39;49m\u001b[38;5;241;43m.\u001b[39;49m\u001b[43m_do_auth\u001b[49m\u001b[43m(\u001b[49m\u001b[38;5;28;43mself\u001b[39;49m\u001b[38;5;241;43m.\u001b[39;49m\u001b[43m_user\u001b[49m\u001b[43m,\u001b[49m\u001b[43m \u001b[49m\u001b[38;5;28;43mself\u001b[39;49m\u001b[38;5;241;43m.\u001b[39;49m\u001b[43m_password\u001b[49m\u001b[43m,\u001b[49m\n\u001b[0;32m    209\u001b[0m \u001b[43m              \u001b[49m\u001b[38;5;28;43mself\u001b[39;49m\u001b[38;5;241;43m.\u001b[39;49m\u001b[43m_database\u001b[49m\u001b[43m,\u001b[49m\u001b[43m \u001b[49m\u001b[38;5;28;43mself\u001b[39;49m\u001b[38;5;241;43m.\u001b[39;49m\u001b[43m_client_flags\u001b[49m\u001b[43m,\u001b[49m\u001b[43m \u001b[49m\u001b[38;5;28;43mself\u001b[39;49m\u001b[38;5;241;43m.\u001b[39;49m\u001b[43m_charset_id\u001b[49m\u001b[43m,\u001b[49m\n\u001b[0;32m    210\u001b[0m \u001b[43m              \u001b[49m\u001b[38;5;28;43mself\u001b[39;49m\u001b[38;5;241;43m.\u001b[39;49m\u001b[43m_ssl\u001b[49m\u001b[43m)\u001b[49m\n\u001b[0;32m    211\u001b[0m \u001b[38;5;28mself\u001b[39m\u001b[38;5;241m.\u001b[39mset_converter_class(\u001b[38;5;28mself\u001b[39m\u001b[38;5;241m.\u001b[39m_converter_class)\n\u001b[0;32m    212\u001b[0m \u001b[38;5;28;01mif\u001b[39;00m \u001b[38;5;28mself\u001b[39m\u001b[38;5;241m.\u001b[39m_client_flags \u001b[38;5;241m&\u001b[39m ClientFlag\u001b[38;5;241m.\u001b[39mCOMPRESS:\n",
      "File \u001b[1;32mc:\\Python312\\Lib\\site-packages\\mysql\\connector\\connection.py:137\u001b[0m, in \u001b[0;36mMySQLConnection._do_auth\u001b[1;34m(self, username, password, database, client_flags, charset, ssl_options)\u001b[0m\n\u001b[0;32m    134\u001b[0m     \u001b[38;5;28mself\u001b[39m\u001b[38;5;241m.\u001b[39m_socket\u001b[38;5;241m.\u001b[39mswitch_to_ssl(\u001b[38;5;241m*\u001b[39m\u001b[38;5;241m*\u001b[39mssl_options)\n\u001b[0;32m    135\u001b[0m     \u001b[38;5;28mself\u001b[39m\u001b[38;5;241m.\u001b[39m_ssl_active \u001b[38;5;241m=\u001b[39m \u001b[38;5;28;01mTrue\u001b[39;00m\n\u001b[1;32m--> 137\u001b[0m packet \u001b[38;5;241m=\u001b[39m \u001b[38;5;28;43mself\u001b[39;49m\u001b[38;5;241;43m.\u001b[39;49m\u001b[43m_protocol\u001b[49m\u001b[38;5;241;43m.\u001b[39;49m\u001b[43mmake_auth\u001b[49m\u001b[43m(\u001b[49m\n\u001b[0;32m    138\u001b[0m \u001b[43m    \u001b[49m\u001b[43mhandshake\u001b[49m\u001b[38;5;241;43m=\u001b[39;49m\u001b[38;5;28;43mself\u001b[39;49m\u001b[38;5;241;43m.\u001b[39;49m\u001b[43m_handshake\u001b[49m\u001b[43m,\u001b[49m\n\u001b[0;32m    139\u001b[0m \u001b[43m    \u001b[49m\u001b[43musername\u001b[49m\u001b[38;5;241;43m=\u001b[39;49m\u001b[43musername\u001b[49m\u001b[43m,\u001b[49m\u001b[43m \u001b[49m\u001b[43mpassword\u001b[49m\u001b[38;5;241;43m=\u001b[39;49m\u001b[43mpassword\u001b[49m\u001b[43m,\u001b[49m\u001b[43m \u001b[49m\u001b[43mdatabase\u001b[49m\u001b[38;5;241;43m=\u001b[39;49m\u001b[43mdatabase\u001b[49m\u001b[43m,\u001b[49m\n\u001b[0;32m    140\u001b[0m \u001b[43m    \u001b[49m\u001b[43mcharset\u001b[49m\u001b[38;5;241;43m=\u001b[39;49m\u001b[43mcharset\u001b[49m\u001b[43m,\u001b[49m\u001b[43m \u001b[49m\u001b[43mclient_flags\u001b[49m\u001b[38;5;241;43m=\u001b[39;49m\u001b[43mclient_flags\u001b[49m\u001b[43m,\u001b[49m\n\u001b[0;32m    141\u001b[0m \u001b[43m    \u001b[49m\u001b[43mssl_enabled\u001b[49m\u001b[38;5;241;43m=\u001b[39;49m\u001b[38;5;28;43mself\u001b[39;49m\u001b[38;5;241;43m.\u001b[39;49m\u001b[43m_ssl_active\u001b[49m\u001b[43m,\u001b[49m\n\u001b[0;32m    142\u001b[0m \u001b[43m    \u001b[49m\u001b[43mauth_plugin\u001b[49m\u001b[38;5;241;43m=\u001b[39;49m\u001b[38;5;28;43mself\u001b[39;49m\u001b[38;5;241;43m.\u001b[39;49m\u001b[43m_auth_plugin\u001b[49m\u001b[43m)\u001b[49m\n\u001b[0;32m    143\u001b[0m \u001b[38;5;28mself\u001b[39m\u001b[38;5;241m.\u001b[39m_socket\u001b[38;5;241m.\u001b[39msend(packet)\n\u001b[0;32m    144\u001b[0m \u001b[38;5;28mself\u001b[39m\u001b[38;5;241m.\u001b[39m_auth_switch_request(username, password)\n",
      "File \u001b[1;32mc:\\Python312\\Lib\\site-packages\\mysql\\connector\\protocol.py:99\u001b[0m, in \u001b[0;36mMySQLProtocol.make_auth\u001b[1;34m(self, handshake, username, password, database, charset, client_flags, max_allowed_packet, ssl_enabled, auth_plugin)\u001b[0m\n\u001b[0;32m     93\u001b[0m     username_bytes \u001b[38;5;241m=\u001b[39m username\n\u001b[0;32m     94\u001b[0m packet \u001b[38;5;241m=\u001b[39m struct\u001b[38;5;241m.\u001b[39mpack(\u001b[38;5;124m'\u001b[39m\u001b[38;5;124m<IIB\u001b[39m\u001b[38;5;132;01m{filler}\u001b[39;00m\u001b[38;5;132;01m{usrlen}\u001b[39;00m\u001b[38;5;124msx\u001b[39m\u001b[38;5;124m'\u001b[39m\u001b[38;5;241m.\u001b[39mformat(\n\u001b[0;32m     95\u001b[0m     filler\u001b[38;5;241m=\u001b[39m\u001b[38;5;124m'\u001b[39m\u001b[38;5;124mx\u001b[39m\u001b[38;5;124m'\u001b[39m \u001b[38;5;241m*\u001b[39m \u001b[38;5;241m23\u001b[39m, usrlen\u001b[38;5;241m=\u001b[39m\u001b[38;5;28mlen\u001b[39m(username_bytes)),\n\u001b[0;32m     96\u001b[0m                      client_flags, max_allowed_packet, charset,\n\u001b[0;32m     97\u001b[0m                      username_bytes)\n\u001b[1;32m---> 99\u001b[0m packet \u001b[38;5;241m+\u001b[39m\u001b[38;5;241m=\u001b[39m \u001b[38;5;28;43mself\u001b[39;49m\u001b[38;5;241;43m.\u001b[39;49m\u001b[43m_auth_response\u001b[49m\u001b[43m(\u001b[49m\u001b[43mclient_flags\u001b[49m\u001b[43m,\u001b[49m\u001b[43m \u001b[49m\u001b[43musername\u001b[49m\u001b[43m,\u001b[49m\u001b[43m \u001b[49m\u001b[43mpassword\u001b[49m\u001b[43m,\u001b[49m\n\u001b[0;32m    100\u001b[0m \u001b[43m                              \u001b[49m\u001b[43mdatabase\u001b[49m\u001b[43m,\u001b[49m\n\u001b[0;32m    101\u001b[0m \u001b[43m                              \u001b[49m\u001b[43mauth_plugin\u001b[49m\u001b[43m,\u001b[49m\n\u001b[0;32m    102\u001b[0m \u001b[43m                              \u001b[49m\u001b[43mauth_data\u001b[49m\u001b[43m,\u001b[49m\u001b[43m \u001b[49m\u001b[43mssl_enabled\u001b[49m\u001b[43m)\u001b[49m\n\u001b[0;32m    104\u001b[0m packet \u001b[38;5;241m+\u001b[39m\u001b[38;5;241m=\u001b[39m \u001b[38;5;28mself\u001b[39m\u001b[38;5;241m.\u001b[39m_connect_with_db(client_flags, database)\n\u001b[0;32m    106\u001b[0m \u001b[38;5;28;01mif\u001b[39;00m client_flags \u001b[38;5;241m&\u001b[39m ClientFlag\u001b[38;5;241m.\u001b[39mPLUGIN_AUTH:\n",
      "File \u001b[1;32mc:\\Python312\\Lib\\site-packages\\mysql\\connector\\protocol.py:58\u001b[0m, in \u001b[0;36mMySQLProtocol._auth_response\u001b[1;34m(self, client_flags, username, password, database, auth_plugin, auth_data, ssl_enabled)\u001b[0m\n\u001b[0;32m     55\u001b[0m     \u001b[38;5;28;01mreturn\u001b[39;00m \u001b[38;5;124mb\u001b[39m\u001b[38;5;124m'\u001b[39m\u001b[38;5;130;01m\\x00\u001b[39;00m\u001b[38;5;124m'\u001b[39m\n\u001b[0;32m     57\u001b[0m \u001b[38;5;28;01mtry\u001b[39;00m:\n\u001b[1;32m---> 58\u001b[0m     auth \u001b[38;5;241m=\u001b[39m \u001b[43mget_auth_plugin\u001b[49m\u001b[43m(\u001b[49m\u001b[43mauth_plugin\u001b[49m\u001b[43m)\u001b[49m(\n\u001b[0;32m     59\u001b[0m         auth_data,\n\u001b[0;32m     60\u001b[0m         username\u001b[38;5;241m=\u001b[39musername, password\u001b[38;5;241m=\u001b[39mpassword, database\u001b[38;5;241m=\u001b[39mdatabase,\n\u001b[0;32m     61\u001b[0m         ssl_enabled\u001b[38;5;241m=\u001b[39mssl_enabled)\n\u001b[0;32m     62\u001b[0m     plugin_auth_response \u001b[38;5;241m=\u001b[39m auth\u001b[38;5;241m.\u001b[39mauth_response()\n\u001b[0;32m     63\u001b[0m \u001b[38;5;28;01mexcept\u001b[39;00m (\u001b[38;5;167;01mTypeError\u001b[39;00m, errors\u001b[38;5;241m.\u001b[39mInterfaceError) \u001b[38;5;28;01mas\u001b[39;00m exc:\n",
      "File \u001b[1;32mc:\\Python312\\Lib\\site-packages\\mysql\\connector\\authentication.py:190\u001b[0m, in \u001b[0;36mget_auth_plugin\u001b[1;34m(plugin_name)\u001b[0m\n\u001b[0;32m    187\u001b[0m     \u001b[38;5;28;01mif\u001b[39;00m authclass\u001b[38;5;241m.\u001b[39mplugin_name \u001b[38;5;241m==\u001b[39m plugin_name:\n\u001b[0;32m    188\u001b[0m         \u001b[38;5;28;01mreturn\u001b[39;00m authclass\n\u001b[1;32m--> 190\u001b[0m \u001b[38;5;28;01mraise\u001b[39;00m errors\u001b[38;5;241m.\u001b[39mNotSupportedError(\n\u001b[0;32m    191\u001b[0m     \u001b[38;5;124m\"\u001b[39m\u001b[38;5;124mAuthentication plugin \u001b[39m\u001b[38;5;124m'\u001b[39m\u001b[38;5;132;01m{0}\u001b[39;00m\u001b[38;5;124m'\u001b[39m\u001b[38;5;124m is not supported\u001b[39m\u001b[38;5;124m\"\u001b[39m\u001b[38;5;241m.\u001b[39mformat(plugin_name))\n",
      "\u001b[1;31mNotSupportedError\u001b[0m: Authentication plugin 'caching_sha2_password' is not supported"
     ]
    }
   ],
   "source": [
    "import mysql.connector\n",
    "import pandas as pd\n",
    "\n",
    "db_user = 'root'\n",
    "db_password = 'password'  # Replace with your MySQL root password\n",
    "db_host = 'localhost'\n",
    "db_port = '3306'\n",
    "db_name = 'sakila'  # replace Database name contoh sakila, world, employee\n",
    "\n",
    "# Create the connection\n",
    "my_connector = mysql.connector.connect(\n",
    "    host=db_host,\n",
    "    user=db_user,\n",
    "    passwd=db_password,\n",
    "    database=db_name\n",
    ")\n"
   ]
  },
  {
   "cell_type": "code",
   "execution_count": 9,
   "metadata": {},
   "outputs": [
    {
     "data": {
      "text/html": [
       "<div>\n",
       "<style scoped>\n",
       "    .dataframe tbody tr th:only-of-type {\n",
       "        vertical-align: middle;\n",
       "    }\n",
       "\n",
       "    .dataframe tbody tr th {\n",
       "        vertical-align: top;\n",
       "    }\n",
       "\n",
       "    .dataframe thead th {\n",
       "        text-align: right;\n",
       "    }\n",
       "</style>\n",
       "<table border=\"1\" class=\"dataframe\">\n",
       "  <thead>\n",
       "    <tr style=\"text-align: right;\">\n",
       "      <th></th>\n",
       "      <th>payment_id</th>\n",
       "      <th>customer_id</th>\n",
       "      <th>staff_id</th>\n",
       "      <th>rental_id</th>\n",
       "      <th>amount</th>\n",
       "      <th>payment_date</th>\n",
       "      <th>last_update</th>\n",
       "    </tr>\n",
       "  </thead>\n",
       "  <tbody>\n",
       "    <tr>\n",
       "      <th>0</th>\n",
       "      <td>1</td>\n",
       "      <td>1</td>\n",
       "      <td>1</td>\n",
       "      <td>76</td>\n",
       "      <td>2.99</td>\n",
       "      <td>2005-05-25 11:30:37</td>\n",
       "      <td>2006-02-15 22:12:30</td>\n",
       "    </tr>\n",
       "    <tr>\n",
       "      <th>1</th>\n",
       "      <td>2</td>\n",
       "      <td>1</td>\n",
       "      <td>1</td>\n",
       "      <td>573</td>\n",
       "      <td>0.99</td>\n",
       "      <td>2005-05-28 10:35:23</td>\n",
       "      <td>2006-02-15 22:12:30</td>\n",
       "    </tr>\n",
       "    <tr>\n",
       "      <th>2</th>\n",
       "      <td>3</td>\n",
       "      <td>1</td>\n",
       "      <td>1</td>\n",
       "      <td>1185</td>\n",
       "      <td>5.99</td>\n",
       "      <td>2005-06-15 00:54:12</td>\n",
       "      <td>2006-02-15 22:12:30</td>\n",
       "    </tr>\n",
       "    <tr>\n",
       "      <th>3</th>\n",
       "      <td>4</td>\n",
       "      <td>1</td>\n",
       "      <td>2</td>\n",
       "      <td>1422</td>\n",
       "      <td>0.99</td>\n",
       "      <td>2005-06-15 18:02:53</td>\n",
       "      <td>2006-02-15 22:12:30</td>\n",
       "    </tr>\n",
       "    <tr>\n",
       "      <th>4</th>\n",
       "      <td>5</td>\n",
       "      <td>1</td>\n",
       "      <td>2</td>\n",
       "      <td>1476</td>\n",
       "      <td>9.99</td>\n",
       "      <td>2005-06-15 21:08:46</td>\n",
       "      <td>2006-02-15 22:12:30</td>\n",
       "    </tr>\n",
       "  </tbody>\n",
       "</table>\n",
       "</div>"
      ],
      "text/plain": [
       "   payment_id  customer_id  staff_id  rental_id amount        payment_date  \\\n",
       "0           1            1         1         76   2.99 2005-05-25 11:30:37   \n",
       "1           2            1         1        573   0.99 2005-05-28 10:35:23   \n",
       "2           3            1         1       1185   5.99 2005-06-15 00:54:12   \n",
       "3           4            1         2       1422   0.99 2005-06-15 18:02:53   \n",
       "4           5            1         2       1476   9.99 2005-06-15 21:08:46   \n",
       "\n",
       "          last_update  \n",
       "0 2006-02-15 22:12:30  \n",
       "1 2006-02-15 22:12:30  \n",
       "2 2006-02-15 22:12:30  \n",
       "3 2006-02-15 22:12:30  \n",
       "4 2006-02-15 22:12:30  "
      ]
     },
     "execution_count": 9,
     "metadata": {},
     "output_type": "execute_result"
    }
   ],
   "source": [
    "my_cursor = my_connector.cursor()\n",
    "\n",
    "# Query to fetch data from the database\n",
    "query =  '''\n",
    "select * from payment\n",
    "    '''\n",
    "\n",
    "# execute query\n",
    "my_cursor.execute(query)\n",
    "result = my_cursor.fetchall()\n",
    "\n",
    "df = pd.DataFrame(result,columns=my_cursor.column_names)\n",
    "\n",
    "df.head()"
   ]
  }
 ],
 "metadata": {
  "kernelspec": {
   "display_name": "Python 3",
   "language": "python",
   "name": "python3"
  },
  "language_info": {
   "codemirror_mode": {
    "name": "ipython",
    "version": 3
   },
   "file_extension": ".py",
   "mimetype": "text/x-python",
   "name": "python",
   "nbconvert_exporter": "python",
   "pygments_lexer": "ipython3",
   "version": "3.12.0"
  }
 },
 "nbformat": 4,
 "nbformat_minor": 2
}
