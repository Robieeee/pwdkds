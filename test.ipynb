{
 "cells": [
  {
   "cell_type": "code",
   "execution_count": 12,
   "metadata": {},
   "outputs": [
    {
     "name": "stdout",
     "output_type": "stream",
     "text": [
      "Test dlu\n",
      "Test dengan angka\n"
     ]
    }
   ],
   "source": [
    "#test dengan string\n",
    "my_variable = 'Test dlu'\n",
    "My_variable = 'Test dengan angka'\n",
    "print(my_variable)\n",
    "print(My_variable)"
   ]
  },
  {
   "cell_type": "code",
   "execution_count": 13,
   "metadata": {},
   "outputs": [
    {
     "name": "stdout",
     "output_type": "stream",
     "text": [
      "<class 'int'>\n",
      "<class 'float'>\n"
     ]
    }
   ],
   "source": [
    "#test dengan angka\n",
    "integer_var = 4\n",
    "float_var = 3.1515151\n",
    "print(type(integer_var))\n",
    "print(type(float_var))\n"
   ]
  },
  {
   "cell_type": "code",
   "execution_count": 14,
   "metadata": {},
   "outputs": [
    {
     "name": "stdout",
     "output_type": "stream",
     "text": [
      "False\n",
      "False\n",
      "None\n"
     ]
    }
   ],
   "source": [
    "#test tipe dengan tipe data\n",
    "x = 10\n",
    "y = 5\n",
    "print (x == y)\n",
    "print (x < y)\n",
    "\n",
    "output_var = None\n",
    "print(output_var)\n"
   ]
  },
  {
   "cell_type": "code",
   "execution_count": 21,
   "metadata": {},
   "outputs": [
    {
     "name": "stdout",
     "output_type": "stream",
     "text": [
      "201.06192982974676\n",
      "64\n",
      "3.141592653589793\n"
     ]
    }
   ],
   "source": [
    "import math\n",
    "jari_jari_lingkaran = 8\n",
    "jari_jari_lingkaran *= jari_jari_lingkaran\n",
    "output_testbola = math.pi * jari_jari_lingkaran\n",
    "print (output_testbola)\n",
    "print(jari_jari_lingkaran)\n",
    "print(math.pi)"
   ]
  },
  {
   "cell_type": "code",
   "execution_count": 28,
   "metadata": {},
   "outputs": [
    {
     "name": "stdout",
     "output_type": "stream",
     "text": [
      "<class 'str'>\n",
      "<class 'float'>\n"
     ]
    }
   ],
   "source": [
    "x = 5.51515151515151\n",
    "x_as_str = (x)\n",
    "print (type(x_as_str))\n",
    "print(type(x))"
   ]
  },
  {
   "cell_type": "code",
   "execution_count": 38,
   "metadata": {},
   "outputs": [
    {
     "name": "stdout",
     "output_type": "stream",
     "text": [
      "2.0\n"
     ]
    }
   ],
   "source": [
    "import math\n",
    "x = 8 ** (1/3)\n",
    "print (x)"
   ]
  },
  {
   "cell_type": "code",
   "execution_count": 28,
   "metadata": {},
   "outputs": [
    {
     "name": "stdout",
     "output_type": "stream",
     "text": [
      "*  *  *  *  *\n",
      "*\n",
      "*\n",
      "*\n"
     ]
    }
   ],
   "source": [
    "#for loop vertical\n",
    "for x in range(1,5):\n",
    "    print(\"* \", end =\" \")\n",
    "    continue\n",
    "\n",
    "#for loop horizontal\n",
    "for x in range(1,5):\n",
    "    print(\"*\")"
   ]
  },
  {
   "cell_type": "code",
   "execution_count": 26,
   "metadata": {},
   "outputs": [
    {
     "name": "stdout",
     "output_type": "stream",
     "text": [
      "* * * * * * *\n",
      "*\n",
      "*\n",
      "*\n",
      "*\n",
      "*\n"
     ]
    }
   ],
   "source": [
    "#horizontall\n",
    "count = 5\n",
    "while count >= 0:\n",
    "    count -= 1\n",
    "    print(\"* \", end= \"\")\n",
    "    continue\n",
    "\n",
    "#vertical\n",
    "count_vertical = 5\n",
    "while count_vertical >= 0:\n",
    "    count_vertical -= 1\n",
    "    print(\"*\")\n"
   ]
  },
  {
   "cell_type": "code",
   "execution_count": 42,
   "metadata": {},
   "outputs": [
    {
     "name": "stdout",
     "output_type": "stream",
     "text": [
      "* * * * \n",
      "* * * * \n",
      "* * * * \n",
      "* * * * \n"
     ]
    }
   ],
   "source": [
    "#cube\n",
    "for outer in range (4):#loop ini untuk handle horizontal\n",
    "    for inner in range(4):#loop ini untuk handle vertical\n",
    "        print(\"* \", end=\"\")\n",
    "    print()\n",
    "    continue"
   ]
  },
  {
   "cell_type": "code",
   "execution_count": 45,
   "metadata": {},
   "outputs": [
    {
     "name": "stdout",
     "output_type": "stream",
     "text": [
      "* \n",
      "* * \n",
      "* * * \n",
      "* * * * \n",
      "* * * * * \n",
      "* * * * * * \n"
     ]
    }
   ],
   "source": [
    "#segitiga\n",
    "\n",
    "for untuk_diagonal in range (1,6 + 1 ):\n",
    "    for untuk_vertical in range(untuk_diagonal):\n",
    "        print(\"* \", end =\"\")\n",
    "    print(\"\")\n"
   ]
  },
  {
   "cell_type": "code",
   "execution_count": 48,
   "metadata": {},
   "outputs": [
    {
     "name": "stdout",
     "output_type": "stream",
     "text": [
      "* * * * * \n",
      "*       * \n",
      "*       * \n",
      "*       * \n",
      "* * * * * \n"
     ]
    }
   ],
   "source": [
    "#kotak dengan ditengah yang kosong\n",
    "rows = 5 \n",
    "columns = 5\n",
    "\n",
    "for i in range(rows):#untuk handle vertikalnya\n",
    "    for j in range(columns): #untuk handle horizontalnya\n",
    "        if i == 0 or i == rows - 1: \n",
    "            print(\"* \", end=\"\")\n",
    "        else:\n",
    "            if j == 0 or j == columns - 1:\n",
    "                print(\"* \", end=\"\")\n",
    "            else:\n",
    "                print(\"  \", end=\"\")\n",
    "    print() \n",
    "\n",
    "#Catatan dari Mas Farojan\n",
    "# 1. Ada 5 Baris, berarti ada 5 looping cek\n",
    "# 2. Baris kesatu dan terakhir itu full dengan 5 bintang cek\n",
    "# 3. baris selain kesatu dan terakhir itu tidak full bintang \\\n",
    "# tapi awalnya 1 dan diakhir oleh satu bintang\n",
    "jumlah_baris = 5\n",
    "kotak_bintang = ''\n",
    "# range -> 0,1,2,3,4\n",
    "for variabel_satu in range(jumlah_baris):\n",
    "    kotak_bintang = ''\n",
    "    if variabel_satu == 0 or variabel_satu == 4:\n",
    "        kotak_bintang += '*****'\n",
    "    else:\n",
    "        kotak_bintang += '*   *'\n",
    "    kotak_bintang += '\\n'\n",
    "print(kotak_bintang)\n",
    "counter = 0\n",
    "kotak_bintang = ''\n",
    "while counter < 5:\n",
    "    if counter == 0 or counter == 4:\n",
    "        kotak_bintang += '*****'\n",
    "    else:\n",
    "        kotak_bintang += '*   *'\n",
    "    kotak_bintang += '\\n'\n",
    "    counter += 1\n",
    "    if counter == 5:\n",
    "        break\n",
    "print(kotak_bintang)"
   ]
  },
  {
   "cell_type": "code",
   "execution_count": 8,
   "metadata": {},
   "outputs": [
    {
     "name": "stdout",
     "output_type": "stream",
     "text": [
      "14\n"
     ]
    }
   ],
   "source": [
    "def sum_all(numbers):\n",
    "    total = 0\n",
    "    for x in numbers:\n",
    "        if x%2 == 0:\n",
    "            total += x\n",
    "    print (total)\n",
    "sum_all ([8,4,7,2,5])"
   ]
  }
 ],
 "metadata": {
  "kernelspec": {
   "display_name": "Python 3",
   "language": "python",
   "name": "python3"
  },
  "language_info": {
   "codemirror_mode": {
    "name": "ipython",
    "version": 3
   },
   "file_extension": ".py",
   "mimetype": "text/x-python",
   "name": "python",
   "nbconvert_exporter": "python",
   "pygments_lexer": "ipython3",
   "version": "3.13.1"
  }
 },
 "nbformat": 4,
 "nbformat_minor": 2
}
